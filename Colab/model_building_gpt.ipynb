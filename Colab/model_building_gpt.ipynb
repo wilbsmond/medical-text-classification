{
  "cells": [
    {
      "cell_type": "code",
      "execution_count": 1,
      "metadata": {
        "id": "p3jG77gzaf5z"
      },
      "outputs": [],
      "source": [
        "import os\n",
        "import pandas as pd\n",
        "import numpy as np\n",
        "import matplotlib.pyplot as plt\n",
        "\n",
        "from sklearn.model_selection import KFold\n",
        "from skmultilearn.model_selection import iterative_train_test_split\n",
        "from sklearn.metrics import f1_score,  precision_score, recall_score, hamming_loss\n",
        "\n",
        "import openai\n",
        "import json"
      ]
    },
    {
      "cell_type": "markdown",
      "metadata": {
        "id": "SFp02p__8bby"
      },
      "source": [
        "## **Load Cleaned Data**"
      ]
    },
    {
      "cell_type": "code",
      "execution_count": 2,
      "metadata": {
        "colab": {
          "base_uri": "https://localhost:8080/",
          "height": 224
        },
        "id": "oah1nESdAe1F",
        "outputId": "b256369a-8478-4ee2-ff18-2de23071096d"
      },
      "outputs": [
        {
          "name": "stdout",
          "output_type": "stream",
          "text": [
            "(3974, 1)\n"
          ]
        },
        {
          "data": {
            "text/html": [
              "<div>\n",
              "<style scoped>\n",
              "    .dataframe tbody tr th:only-of-type {\n",
              "        vertical-align: middle;\n",
              "    }\n",
              "\n",
              "    .dataframe tbody tr th {\n",
              "        vertical-align: top;\n",
              "    }\n",
              "\n",
              "    .dataframe thead th {\n",
              "        text-align: right;\n",
              "    }\n",
              "</style>\n",
              "<table border=\"1\" class=\"dataframe\">\n",
              "  <thead>\n",
              "    <tr style=\"text-align: right;\">\n",
              "      <th></th>\n",
              "      <th>text</th>\n",
              "    </tr>\n",
              "  </thead>\n",
              "  <tbody>\n",
              "    <tr>\n",
              "      <th>0</th>\n",
              "      <td>er is een teek op mijn been ik ben bang dat di...</td>\n",
              "    </tr>\n",
              "    <tr>\n",
              "      <th>1</th>\n",
              "      <td>er is een teek op mijn rug en ik krijg hem er ...</td>\n",
              "    </tr>\n",
              "    <tr>\n",
              "      <th>2</th>\n",
              "      <td>op mijn been zit een teek ik heb hem geprobeer...</td>\n",
              "    </tr>\n",
              "    <tr>\n",
              "      <th>3</th>\n",
              "      <td>ik heb allergieen</td>\n",
              "    </tr>\n",
              "    <tr>\n",
              "      <th>4</th>\n",
              "      <td>huid</td>\n",
              "    </tr>\n",
              "    <tr>\n",
              "      <th>5</th>\n",
              "      <td>roodheid</td>\n",
              "    </tr>\n",
              "    <tr>\n",
              "      <th>6</th>\n",
              "      <td>schilfering</td>\n",
              "    </tr>\n",
              "    <tr>\n",
              "      <th>7</th>\n",
              "      <td>ik heb wratten onder mijn voet</td>\n",
              "    </tr>\n",
              "    <tr>\n",
              "      <th>8</th>\n",
              "      <td>ik heb gisteren naar het bos geweest en zie nu...</td>\n",
              "    </tr>\n",
              "    <tr>\n",
              "      <th>9</th>\n",
              "      <td>ik voelde iets prikken</td>\n",
              "    </tr>\n",
              "  </tbody>\n",
              "</table>\n",
              "</div>"
            ],
            "text/plain": [
              "                                                text\n",
              "0  er is een teek op mijn been ik ben bang dat di...\n",
              "1  er is een teek op mijn rug en ik krijg hem er ...\n",
              "2  op mijn been zit een teek ik heb hem geprobeer...\n",
              "3                                  ik heb allergieen\n",
              "4                                               huid\n",
              "5                                           roodheid\n",
              "6                                        schilfering\n",
              "7                     ik heb wratten onder mijn voet\n",
              "8  ik heb gisteren naar het bos geweest en zie nu...\n",
              "9                             ik voelde iets prikken"
            ]
          },
          "execution_count": 2,
          "metadata": {},
          "output_type": "execute_result"
        }
      ],
      "source": [
        "# Load the cleaned datasets\n",
        "df_user_inputs = pd.read_csv('../dataset/user_inputs_cleaned.csv')\n",
        "df_labels = pd.read_csv('../dataset//labels_cleaned.csv')\n",
        "\n",
        "# Remove unnecessary index columns\n",
        "df_user_inputs.drop(df_user_inputs.columns[0], axis=1, inplace=True)\n",
        "df_labels.drop(df_labels.columns[0], axis=1, inplace=True)\n",
        "\n",
        "# Ensure alignment\n",
        "assert len(df_labels) == len(df_user_inputs), \"Datasets do not align!\"\n",
        "\n",
        "print(df_user_inputs.shape)\n",
        "df_user_inputs.head(10)"
      ]
    },
    {
      "cell_type": "code",
      "execution_count": 3,
      "metadata": {},
      "outputs": [
        {
          "data": {
            "text/html": [
              "<div>\n",
              "<style scoped>\n",
              "    .dataframe tbody tr th:only-of-type {\n",
              "        vertical-align: middle;\n",
              "    }\n",
              "\n",
              "    .dataframe tbody tr th {\n",
              "        vertical-align: top;\n",
              "    }\n",
              "\n",
              "    .dataframe thead th {\n",
              "        text-align: right;\n",
              "    }\n",
              "</style>\n",
              "<table border=\"1\" class=\"dataframe\">\n",
              "  <thead>\n",
              "    <tr style=\"text-align: right;\">\n",
              "      <th></th>\n",
              "      <th>Niet lekker voelen, algehele malaise</th>\n",
              "      <th>Beenklachten</th>\n",
              "      <th>Bloedneus</th>\n",
              "      <th>Misselijkheid en overgeven</th>\n",
              "      <th>Brandwond</th>\n",
              "      <th>Buikpijn</th>\n",
              "      <th>Suikerziekte (ontregeld)</th>\n",
              "      <th>Diarree</th>\n",
              "      <th>Duizeligheid</th>\n",
              "      <th>Gebitsklachten</th>\n",
              "      <th>...</th>\n",
              "      <th>Coronavirus</th>\n",
              "      <th>Knieklachten</th>\n",
              "      <th>Liesklachten</th>\n",
              "      <th>Elleboogklachten</th>\n",
              "      <th>Schouderklachten</th>\n",
              "      <th>Oorsuizen</th>\n",
              "      <th>Hand- en polsklachten</th>\n",
              "      <th>Enkelklachten</th>\n",
              "      <th>Dikke enkels of voeten</th>\n",
              "      <th>Vingerklachten</th>\n",
              "    </tr>\n",
              "  </thead>\n",
              "  <tbody>\n",
              "    <tr>\n",
              "      <th>0</th>\n",
              "      <td>0.0</td>\n",
              "      <td>0.0</td>\n",
              "      <td>0.0</td>\n",
              "      <td>0.0</td>\n",
              "      <td>0.0</td>\n",
              "      <td>0.0</td>\n",
              "      <td>0.0</td>\n",
              "      <td>0.0</td>\n",
              "      <td>0.0</td>\n",
              "      <td>0.0</td>\n",
              "      <td>...</td>\n",
              "      <td>0.0</td>\n",
              "      <td>0.0</td>\n",
              "      <td>0.0</td>\n",
              "      <td>0.0</td>\n",
              "      <td>0.0</td>\n",
              "      <td>0.0</td>\n",
              "      <td>0.0</td>\n",
              "      <td>0.0</td>\n",
              "      <td>0.0</td>\n",
              "      <td>0.0</td>\n",
              "    </tr>\n",
              "    <tr>\n",
              "      <th>1</th>\n",
              "      <td>0.0</td>\n",
              "      <td>0.0</td>\n",
              "      <td>0.0</td>\n",
              "      <td>0.0</td>\n",
              "      <td>0.0</td>\n",
              "      <td>0.0</td>\n",
              "      <td>0.0</td>\n",
              "      <td>0.0</td>\n",
              "      <td>0.0</td>\n",
              "      <td>0.0</td>\n",
              "      <td>...</td>\n",
              "      <td>0.0</td>\n",
              "      <td>0.0</td>\n",
              "      <td>0.0</td>\n",
              "      <td>0.0</td>\n",
              "      <td>0.0</td>\n",
              "      <td>0.0</td>\n",
              "      <td>0.0</td>\n",
              "      <td>0.0</td>\n",
              "      <td>0.0</td>\n",
              "      <td>0.0</td>\n",
              "    </tr>\n",
              "    <tr>\n",
              "      <th>2</th>\n",
              "      <td>0.0</td>\n",
              "      <td>0.0</td>\n",
              "      <td>0.0</td>\n",
              "      <td>0.0</td>\n",
              "      <td>0.0</td>\n",
              "      <td>0.0</td>\n",
              "      <td>0.0</td>\n",
              "      <td>0.0</td>\n",
              "      <td>0.0</td>\n",
              "      <td>0.0</td>\n",
              "      <td>...</td>\n",
              "      <td>0.0</td>\n",
              "      <td>0.0</td>\n",
              "      <td>0.0</td>\n",
              "      <td>0.0</td>\n",
              "      <td>0.0</td>\n",
              "      <td>0.0</td>\n",
              "      <td>0.0</td>\n",
              "      <td>0.0</td>\n",
              "      <td>0.0</td>\n",
              "      <td>0.0</td>\n",
              "    </tr>\n",
              "    <tr>\n",
              "      <th>3</th>\n",
              "      <td>0.0</td>\n",
              "      <td>0.0</td>\n",
              "      <td>0.0</td>\n",
              "      <td>0.0</td>\n",
              "      <td>0.0</td>\n",
              "      <td>0.0</td>\n",
              "      <td>0.0</td>\n",
              "      <td>0.0</td>\n",
              "      <td>0.0</td>\n",
              "      <td>0.0</td>\n",
              "      <td>...</td>\n",
              "      <td>0.0</td>\n",
              "      <td>0.0</td>\n",
              "      <td>0.0</td>\n",
              "      <td>0.0</td>\n",
              "      <td>0.0</td>\n",
              "      <td>0.0</td>\n",
              "      <td>0.0</td>\n",
              "      <td>0.0</td>\n",
              "      <td>0.0</td>\n",
              "      <td>0.0</td>\n",
              "    </tr>\n",
              "    <tr>\n",
              "      <th>4</th>\n",
              "      <td>0.0</td>\n",
              "      <td>0.0</td>\n",
              "      <td>0.0</td>\n",
              "      <td>0.0</td>\n",
              "      <td>0.0</td>\n",
              "      <td>0.0</td>\n",
              "      <td>0.0</td>\n",
              "      <td>0.0</td>\n",
              "      <td>0.0</td>\n",
              "      <td>0.0</td>\n",
              "      <td>...</td>\n",
              "      <td>0.0</td>\n",
              "      <td>0.0</td>\n",
              "      <td>0.0</td>\n",
              "      <td>0.0</td>\n",
              "      <td>0.0</td>\n",
              "      <td>0.0</td>\n",
              "      <td>0.0</td>\n",
              "      <td>0.0</td>\n",
              "      <td>0.0</td>\n",
              "      <td>0.0</td>\n",
              "    </tr>\n",
              "  </tbody>\n",
              "</table>\n",
              "<p>5 rows × 74 columns</p>\n",
              "</div>"
            ],
            "text/plain": [
              "   Niet lekker voelen, algehele malaise  Beenklachten  Bloedneus  \\\n",
              "0                                   0.0           0.0        0.0   \n",
              "1                                   0.0           0.0        0.0   \n",
              "2                                   0.0           0.0        0.0   \n",
              "3                                   0.0           0.0        0.0   \n",
              "4                                   0.0           0.0        0.0   \n",
              "\n",
              "   Misselijkheid en overgeven  Brandwond  Buikpijn  Suikerziekte (ontregeld)  \\\n",
              "0                         0.0        0.0       0.0                       0.0   \n",
              "1                         0.0        0.0       0.0                       0.0   \n",
              "2                         0.0        0.0       0.0                       0.0   \n",
              "3                         0.0        0.0       0.0                       0.0   \n",
              "4                         0.0        0.0       0.0                       0.0   \n",
              "\n",
              "   Diarree  Duizeligheid  Gebitsklachten  ...  Coronavirus  Knieklachten  \\\n",
              "0      0.0           0.0             0.0  ...          0.0           0.0   \n",
              "1      0.0           0.0             0.0  ...          0.0           0.0   \n",
              "2      0.0           0.0             0.0  ...          0.0           0.0   \n",
              "3      0.0           0.0             0.0  ...          0.0           0.0   \n",
              "4      0.0           0.0             0.0  ...          0.0           0.0   \n",
              "\n",
              "   Liesklachten  Elleboogklachten  Schouderklachten  Oorsuizen  \\\n",
              "0           0.0               0.0               0.0        0.0   \n",
              "1           0.0               0.0               0.0        0.0   \n",
              "2           0.0               0.0               0.0        0.0   \n",
              "3           0.0               0.0               0.0        0.0   \n",
              "4           0.0               0.0               0.0        0.0   \n",
              "\n",
              "   Hand- en polsklachten  Enkelklachten  Dikke enkels of voeten  \\\n",
              "0                    0.0            0.0                     0.0   \n",
              "1                    0.0            0.0                     0.0   \n",
              "2                    0.0            0.0                     0.0   \n",
              "3                    0.0            0.0                     0.0   \n",
              "4                    0.0            0.0                     0.0   \n",
              "\n",
              "   Vingerklachten  \n",
              "0             0.0  \n",
              "1             0.0  \n",
              "2             0.0  \n",
              "3             0.0  \n",
              "4             0.0  \n",
              "\n",
              "[5 rows x 74 columns]"
            ]
          },
          "execution_count": 3,
          "metadata": {},
          "output_type": "execute_result"
        }
      ],
      "source": [
        "df_labels.head()"
      ]
    },
    {
      "cell_type": "code",
      "execution_count": 4,
      "metadata": {},
      "outputs": [
        {
          "data": {
            "text/plain": [
              "Huidklachten                            0.088827\n",
              "Beenklachten                            0.072723\n",
              "Buikpijn                                0.062154\n",
              "Oorklachten                             0.052843\n",
              "Misselijkheid en overgeven              0.037242\n",
              "                                          ...   \n",
              "Liesklachten                            0.005033\n",
              "Tekenbeet                               0.005033\n",
              "Verdrinking                             0.005033\n",
              "Verwonding aan de buik                  0.005033\n",
              "Niet lekker voelen, algehele malaise    0.002516\n",
              "Length: 74, dtype: float64"
            ]
          },
          "execution_count": 4,
          "metadata": {},
          "output_type": "execute_result"
        }
      ],
      "source": [
        "# Determine model baseline\n",
        "label_frequencies = df_labels.sum().sort_values(ascending=False)\n",
        "label_frequencies / df_labels.shape[0]"
      ]
    },
    {
      "cell_type": "markdown",
      "metadata": {},
      "source": [
        "We see that if we predict every time the label with the highest frequency (Huidklachten), our model will be correct around 9% of the time. We want our model to perform at least better than this 9% threshold"
      ]
    },
    {
      "cell_type": "markdown",
      "metadata": {
        "id": "sFwlqzrFz6tk"
      },
      "source": [
        "## **Prepare Data to Model Format**"
      ]
    },
    {
      "cell_type": "markdown",
      "metadata": {
        "id": "7PBtNHVBXA07"
      },
      "source": [
        "To accomodate the nature of multi-label classification. Instead of using the traditional method `train_test_split`, we employ iterative stratified sampling `iterative_train_test_split`, to provide a well-balanced distribution of all label combinations in both training and test sets."
      ]
    },
    {
      "cell_type": "code",
      "execution_count": 5,
      "metadata": {
        "colab": {
          "base_uri": "https://localhost:8080/"
        },
        "id": "koGeTgdySonE",
        "outputId": "5839290a-dd86-4f8a-af3f-6451b50f95a1"
      },
      "outputs": [
        {
          "name": "stdout",
          "output_type": "stream",
          "text": [
            "(3175,) (3175, 74) (799,)\n"
          ]
        },
        {
          "data": {
            "text/plain": [
              "array(['er is een teek op mijn been ik ben bang dat die er al een tijdje op heeft gezeten',\n",
              "       'huid', 'roodheid', ...,\n",
              "       'vannacht met slapen denk ik gekke beweging gemaakt want mn nek is nu helemaal stijf kan niet meer naar rechts kijken',\n",
              "       'heb al langere tijd pijn in mn nek krijg dan soms tintelingen over mijn arm heb dan ook minder kracht in mijn arm',\n",
              "       'doet zeer als ik mn hoofd beweeg'], dtype=object)"
            ]
          },
          "execution_count": 5,
          "metadata": {},
          "output_type": "execute_result"
        }
      ],
      "source": [
        "## Split data to train:val:test\n",
        "\n",
        "# Prepare data for iterative train test split\n",
        "# X must be 2D np.ndarray and y must be 2D binary np.ndarray\n",
        "X_texts = df_user_inputs['text'].values\n",
        "X_texts = X_texts.reshape(-1, 1)\n",
        "y = df_labels.values\n",
        "\n",
        "# Split the data 60:20:20 with multi-label stratification\n",
        "train_texts, y_train, test_texts, y_test = iterative_train_test_split(X_texts, y, test_size = 0.2)\n",
        "#val_texts, y_val, test_texts, y_test = iterative_train_test_split(tmp_texts, y_tmp, test_size = 0.5)\n",
        "\n",
        "# Sanity checks to confirm the shapes of the datasets\n",
        "assert train_texts.shape[0] == y_train.shape[0], \"Mismatch in train data and labels\"\n",
        "assert test_texts.shape[0] == y_test.shape[0], \"Mismatch in test data and labels\"\n",
        "\n",
        "train_texts, test_texts = train_texts.ravel(), test_texts.ravel()\n",
        "#val_texts = val_texts.ravel()\n",
        "\n",
        "print(train_texts.shape, y_train.shape, test_texts.shape)\n",
        "train_texts"
      ]
    },
    {
      "cell_type": "markdown",
      "metadata": {
        "id": "wf2I4e3d0QF5"
      },
      "source": [
        "## **Model Building: GPT-4**"
      ]
    },
    {
      "cell_type": "markdown",
      "metadata": {},
      "source": [
        "### **A. Data & Model Preparation**"
      ]
    },
    {
      "cell_type": "code",
      "execution_count": null,
      "metadata": {},
      "outputs": [],
      "source": [
        "# Load the API key from an environment variable\n",
        "openai_api_key = os.getenv('OPENAI_API_KEY')\n",
        "client = openai.ChatCompletion.create(api_key=openai_api_key)\n",
        "\n"
      ]
    },
    {
      "cell_type": "markdown",
      "metadata": {
        "id": "EuUqGq3a4Gs9"
      },
      "source": [
        "### **C. Model Development and Experimentation**"
      ]
    },
    {
      "cell_type": "code",
      "execution_count": null,
      "metadata": {},
      "outputs": [],
      "source": []
    },
    {
      "cell_type": "markdown",
      "metadata": {
        "id": "rGe-kVuV4L1i"
      },
      "source": [
        "### **D. Train model**"
      ]
    },
    {
      "cell_type": "markdown",
      "metadata": {
        "id": "Sro4tOWY5yJe"
      },
      "source": [
        "### **E. Serialize model**"
      ]
    },
    {
      "cell_type": "code",
      "execution_count": null,
      "metadata": {
        "id": "FViddnbXRC-p"
      },
      "outputs": [],
      "source": []
    }
  ],
  "metadata": {
    "accelerator": "GPU",
    "colab": {
      "gpuType": "T4",
      "provenance": []
    },
    "kernelspec": {
      "display_name": "Python 3",
      "name": "python3"
    },
    "language_info": {
      "codemirror_mode": {
        "name": "ipython",
        "version": 3
      },
      "file_extension": ".py",
      "mimetype": "text/x-python",
      "name": "python",
      "nbconvert_exporter": "python",
      "pygments_lexer": "ipython3",
      "version": "3.10.13"
    }
  },
  "nbformat": 4,
  "nbformat_minor": 0
}
